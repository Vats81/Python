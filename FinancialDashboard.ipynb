{
 "cells": [
  {
   "cell_type": "code",
   "execution_count": 7,
   "id": "52c68729",
   "metadata": {},
   "outputs": [],
   "source": [
    "import math\n",
    "import datetime as dt\n",
    "\n",
    "import numpy as np\n",
    "import yfinance as yf\n",
    "\n",
    "from bokeh.io import curdoc\n",
    "from bokeh.plotting import figure\n",
    "from bokeh.layouts import column, row\n",
    "from bokeh.models import TextInput, Button, DatePicker, MultiChoice"
   ]
  },
  {
   "cell_type": "code",
   "execution_count": 8,
   "id": "18f3edb9",
   "metadata": {},
   "outputs": [],
   "source": [
    "\n",
    "def load_data(ticker1, ticker2, start, end):\n",
    "    df1 = yf.download(ticker1, start, end)\n",
    "    df2 = yf.download(ticker2, start, end)\n",
    "    return df1, df2"
   ]
  },
  {
   "cell_type": "code",
   "execution_count": 9,
   "id": "321e8baf",
   "metadata": {},
   "outputs": [],
   "source": [
    "def update_plot(data, indicators, sync_axis=None):\n",
    "    df = data\n",
    "    gain = df.Close > df.Open\n",
    "    loss = df.Open > df.Close\n",
    "    width = 12 * 60 * 60 * 1000  # half day in ms\n",
    "\n",
    "    if sync_axis is not None:\n",
    "        p = figure(x_axis_type=\"datetime\", tools=\"pan,wheel_zoom,box_zoom,reset,save\", width=1000, x_range=sync_axis)\n",
    "    else:\n",
    "        p = figure(x_axis_type=\"datetime\", tools=\"pan,wheel_zoom,box_zoom,reset,save\", width=1000)\n",
    "\n",
    "    p.xaxis.major_label_orientation = math.pi / 4\n",
    "    p.grid.grid_line_alpha = 0.3\n",
    "\n",
    "    p.segment(df.index, df.High, df.index, df.Low, color=\"black\")\n",
    "    p.vbar(df.index[gain], width, df.Open[gain], df.Close[gain], fill_color=\"#00ff00\", line_color=\"#00ff00\")\n",
    "    p.vbar(df.index[loss], width, df.Open[loss], df.Close[loss], fill_color=\"#ff0000\", line_color=\"#ff0000\")\n",
    "\n",
    "    for indicator in indicators:\n",
    "        print(indicator)\n",
    "        if indicator == \"30 Day SMA\":\n",
    "            df['SMA30'] = df['Close'].rolling(30).mean()\n",
    "            p.line(df.index, df.SMA30, color=\"purple\", legend_label=\"30 Day SMA\")\n",
    "        elif indicator == \"100 Day SMA\":\n",
    "            df['SMA100'] = df['Close'].rolling(100).mean()\n",
    "            p.line(df.index, df.SMA100, color=\"blue\", legend_label=\"100 Day SMA\")\n",
    "        elif indicator == \"Linear Regression Line\":\n",
    "            par = np.polyfit(range(len(df.index.values)), df.Close.values, 1, full=True)\n",
    "            slope = par[0][0]\n",
    "            intercept = par[0][1]\n",
    "            y_predicted = [slope * i + intercept for i in range(len(df.index.values))]\n",
    "            p.segment(df.index[0], y_predicted[0], df.index[-1], y_predicted[-1], legend_label=\"Linear Regression\",\n",
    "                      color=\"red\")\n",
    "\n",
    "        p.legend.location = \"top_left\"\n",
    "        p.legend.click_policy = \"hide\"\n",
    "\n",
    "    return p"
   ]
  },
  {
   "cell_type": "code",
   "execution_count": 10,
   "id": "f9023263",
   "metadata": {},
   "outputs": [],
   "source": [
    "def on_button_click(main_stock, comparison_stock, start, end, indicators):\n",
    "    source1, source2 = load_data(main_stock, comparison_stock, start, end)\n",
    "    p = update_plot(source1, indicators)\n",
    "    p2 = update_plot(source2, indicators, sync_axis=p.x_range)\n",
    "    curdoc().clear()\n",
    "    curdoc().add_root(layout)\n",
    "    curdoc().add_root(row(p, p2))\n",
    "\n",
    "\n",
    "stock1_text = TextInput(title=\"Main Stock\")\n",
    "stock2_text = TextInput(title=\"Comparison Stock\")\n",
    "date_picker_from = DatePicker(title='Start Date', value=\"2020-01-01\", min_date=\"2000-01-01\", max_date=dt.datetime.now().strftime(\"%Y-%m-%d\"))\n",
    "date_picker_to = DatePicker(title='End Date', value=\"2020-02-01\", min_date=\"2000-01-01\", max_date=dt.datetime.now().strftime(\"%Y-%m-%d\"))\n",
    "indicator_choice = MultiChoice(options=[\"100 Day SMA\", \"30 Day SMA\", \"Linear Regression Line\"])\n",
    "\n",
    "load_button = Button(label=\"Load Data\", button_type=\"success\")\n",
    "load_button.on_click(lambda: on_button_click(stock1_text.value, stock2_text.value, date_picker_from.value, date_picker_to.value, indicator_choice.value))\n",
    "\n",
    "layout = column(stock1_text, stock2_text, date_picker_from, date_picker_to, indicator_choice, load_button)\n",
    "\n",
    "curdoc().clear()\n",
    "curdoc().add_root(layout)"
   ]
  },
  {
   "cell_type": "code",
   "execution_count": null,
   "id": "5a4a4558",
   "metadata": {},
   "outputs": [],
   "source": []
  }
 ],
 "metadata": {
  "kernelspec": {
   "display_name": "Python 3 (ipykernel)",
   "language": "python",
   "name": "python3"
  },
  "language_info": {
   "codemirror_mode": {
    "name": "ipython",
    "version": 3
   },
   "file_extension": ".py",
   "mimetype": "text/x-python",
   "name": "python",
   "nbconvert_exporter": "python",
   "pygments_lexer": "ipython3",
   "version": "3.9.12"
  }
 },
 "nbformat": 4,
 "nbformat_minor": 5
}
